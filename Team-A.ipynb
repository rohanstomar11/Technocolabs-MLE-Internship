{
 "cells": [
  {
   "cell_type": "markdown",
   "id": "d6efd226",
   "metadata": {},
   "source": [
    "# Crowdfunding: Predicting Kickstarter Project Success"
   ]
  },
  {
   "cell_type": "code",
   "execution_count": 1,
   "id": "d598ee2a",
   "metadata": {},
   "outputs": [
    {
     "name": "stdout",
     "output_type": "stream",
     "text": [
      "Modules imported successfully!\n"
     ]
    }
   ],
   "source": [
    "#Import Modules\n",
    "import pandas as pd\n",
    "import numpy as np\n",
    "import matplotlib.pyplot as plt\n",
    "import seaborn as sns\n",
    "import warnings\n",
    "%matplotlib inline\n",
    "warnings.filterwarnings('ignore')\n",
    "print(\"Modules imported successfully!\")"
   ]
  },
  {
   "cell_type": "code",
   "execution_count": 2,
   "id": "7964a914",
   "metadata": {},
   "outputs": [
    {
     "name": "stdout",
     "output_type": "stream",
     "text": [
      "Dataset loaded successfully!\n"
     ]
    }
   ],
   "source": [
    "#Load the dataset and check its shape\n",
    "df = pd.read_csv('kickstarter_Cpgn.csv')\n",
    "print(\"Dataset loaded successfully!\")"
   ]
  },
  {
   "cell_type": "code",
   "execution_count": 3,
   "id": "bc88e0de",
   "metadata": {},
   "outputs": [
    {
     "name": "stdout",
     "output_type": "stream",
     "text": [
      "No. of Rows: 378661\n",
      "No. of Columns: 15\n",
      "Shape:  (378661, 15)\n"
     ]
    }
   ],
   "source": [
    "#Check no. of Rows and Columns\n",
    "print(\"No. of Rows:\", df.shape[0])\n",
    "print(\"No. of Columns:\", df.shape[1])\n",
    "print(\"Shape: \",df.shape)"
   ]
  },
  {
   "cell_type": "code",
   "execution_count": 4,
   "id": "478efb24",
   "metadata": {},
   "outputs": [
    {
     "data": {
      "text/html": [
       "<div>\n",
       "<style scoped>\n",
       "    .dataframe tbody tr th:only-of-type {\n",
       "        vertical-align: middle;\n",
       "    }\n",
       "\n",
       "    .dataframe tbody tr th {\n",
       "        vertical-align: top;\n",
       "    }\n",
       "\n",
       "    .dataframe thead th {\n",
       "        text-align: right;\n",
       "    }\n",
       "</style>\n",
       "<table border=\"1\" class=\"dataframe\">\n",
       "  <thead>\n",
       "    <tr style=\"text-align: right;\">\n",
       "      <th></th>\n",
       "      <th>ID</th>\n",
       "      <th>name</th>\n",
       "      <th>category</th>\n",
       "      <th>main_category</th>\n",
       "      <th>currency</th>\n",
       "      <th>deadline</th>\n",
       "      <th>goal</th>\n",
       "      <th>launched</th>\n",
       "      <th>pledged</th>\n",
       "      <th>state</th>\n",
       "      <th>backers</th>\n",
       "      <th>country</th>\n",
       "      <th>usd pledged</th>\n",
       "      <th>usd_pledged_real</th>\n",
       "      <th>usd_goal_real</th>\n",
       "    </tr>\n",
       "  </thead>\n",
       "  <tbody>\n",
       "    <tr>\n",
       "      <th>0</th>\n",
       "      <td>1000002330</td>\n",
       "      <td>The Songs of Adelaide &amp; Abullah</td>\n",
       "      <td>Poetry</td>\n",
       "      <td>Publishing</td>\n",
       "      <td>GBP</td>\n",
       "      <td>2015-10-09</td>\n",
       "      <td>1000.0</td>\n",
       "      <td>2015-08-11 12:12:28</td>\n",
       "      <td>0.0</td>\n",
       "      <td>failed</td>\n",
       "      <td>0</td>\n",
       "      <td>GB</td>\n",
       "      <td>0.0</td>\n",
       "      <td>0.0</td>\n",
       "      <td>1533.95</td>\n",
       "    </tr>\n",
       "    <tr>\n",
       "      <th>1</th>\n",
       "      <td>1000003930</td>\n",
       "      <td>Greeting From Earth: ZGAC Arts Capsule For ET</td>\n",
       "      <td>Narrative Film</td>\n",
       "      <td>Film &amp; Video</td>\n",
       "      <td>USD</td>\n",
       "      <td>2017-11-01</td>\n",
       "      <td>30000.0</td>\n",
       "      <td>2017-09-02 04:43:57</td>\n",
       "      <td>2421.0</td>\n",
       "      <td>failed</td>\n",
       "      <td>15</td>\n",
       "      <td>US</td>\n",
       "      <td>100.0</td>\n",
       "      <td>2421.0</td>\n",
       "      <td>30000.00</td>\n",
       "    </tr>\n",
       "    <tr>\n",
       "      <th>2</th>\n",
       "      <td>1000004038</td>\n",
       "      <td>Where is Hank?</td>\n",
       "      <td>Narrative Film</td>\n",
       "      <td>Film &amp; Video</td>\n",
       "      <td>USD</td>\n",
       "      <td>2013-02-26</td>\n",
       "      <td>45000.0</td>\n",
       "      <td>2013-01-12 00:20:50</td>\n",
       "      <td>220.0</td>\n",
       "      <td>failed</td>\n",
       "      <td>3</td>\n",
       "      <td>US</td>\n",
       "      <td>220.0</td>\n",
       "      <td>220.0</td>\n",
       "      <td>45000.00</td>\n",
       "    </tr>\n",
       "    <tr>\n",
       "      <th>3</th>\n",
       "      <td>1000007540</td>\n",
       "      <td>ToshiCapital Rekordz Needs Help to Complete Album</td>\n",
       "      <td>Music</td>\n",
       "      <td>Music</td>\n",
       "      <td>USD</td>\n",
       "      <td>2012-04-16</td>\n",
       "      <td>5000.0</td>\n",
       "      <td>2012-03-17 03:24:11</td>\n",
       "      <td>1.0</td>\n",
       "      <td>failed</td>\n",
       "      <td>1</td>\n",
       "      <td>US</td>\n",
       "      <td>1.0</td>\n",
       "      <td>1.0</td>\n",
       "      <td>5000.00</td>\n",
       "    </tr>\n",
       "    <tr>\n",
       "      <th>4</th>\n",
       "      <td>1000011046</td>\n",
       "      <td>Community Film Project: The Art of Neighborhoo...</td>\n",
       "      <td>Film &amp; Video</td>\n",
       "      <td>Film &amp; Video</td>\n",
       "      <td>USD</td>\n",
       "      <td>2015-08-29</td>\n",
       "      <td>19500.0</td>\n",
       "      <td>2015-07-04 08:35:03</td>\n",
       "      <td>1283.0</td>\n",
       "      <td>canceled</td>\n",
       "      <td>14</td>\n",
       "      <td>US</td>\n",
       "      <td>1283.0</td>\n",
       "      <td>1283.0</td>\n",
       "      <td>19500.00</td>\n",
       "    </tr>\n",
       "  </tbody>\n",
       "</table>\n",
       "</div>"
      ],
      "text/plain": [
       "           ID                                               name  \\\n",
       "0  1000002330                    The Songs of Adelaide & Abullah   \n",
       "1  1000003930      Greeting From Earth: ZGAC Arts Capsule For ET   \n",
       "2  1000004038                                     Where is Hank?   \n",
       "3  1000007540  ToshiCapital Rekordz Needs Help to Complete Album   \n",
       "4  1000011046  Community Film Project: The Art of Neighborhoo...   \n",
       "\n",
       "         category main_category currency    deadline     goal  \\\n",
       "0          Poetry    Publishing      GBP  2015-10-09   1000.0   \n",
       "1  Narrative Film  Film & Video      USD  2017-11-01  30000.0   \n",
       "2  Narrative Film  Film & Video      USD  2013-02-26  45000.0   \n",
       "3           Music         Music      USD  2012-04-16   5000.0   \n",
       "4    Film & Video  Film & Video      USD  2015-08-29  19500.0   \n",
       "\n",
       "              launched  pledged     state  backers country  usd pledged  \\\n",
       "0  2015-08-11 12:12:28      0.0    failed        0      GB          0.0   \n",
       "1  2017-09-02 04:43:57   2421.0    failed       15      US        100.0   \n",
       "2  2013-01-12 00:20:50    220.0    failed        3      US        220.0   \n",
       "3  2012-03-17 03:24:11      1.0    failed        1      US          1.0   \n",
       "4  2015-07-04 08:35:03   1283.0  canceled       14      US       1283.0   \n",
       "\n",
       "   usd_pledged_real  usd_goal_real  \n",
       "0               0.0        1533.95  \n",
       "1            2421.0       30000.00  \n",
       "2             220.0       45000.00  \n",
       "3               1.0        5000.00  \n",
       "4            1283.0       19500.00  "
      ]
     },
     "execution_count": 4,
     "metadata": {},
     "output_type": "execute_result"
    }
   ],
   "source": [
    "#First 5 rows\n",
    "df.head()"
   ]
  },
  {
   "cell_type": "code",
   "execution_count": 5,
   "id": "85cfbcad",
   "metadata": {},
   "outputs": [
    {
     "data": {
      "text/html": [
       "<div>\n",
       "<style scoped>\n",
       "    .dataframe tbody tr th:only-of-type {\n",
       "        vertical-align: middle;\n",
       "    }\n",
       "\n",
       "    .dataframe tbody tr th {\n",
       "        vertical-align: top;\n",
       "    }\n",
       "\n",
       "    .dataframe thead th {\n",
       "        text-align: right;\n",
       "    }\n",
       "</style>\n",
       "<table border=\"1\" class=\"dataframe\">\n",
       "  <thead>\n",
       "    <tr style=\"text-align: right;\">\n",
       "      <th></th>\n",
       "      <th>ID</th>\n",
       "      <th>name</th>\n",
       "      <th>category</th>\n",
       "      <th>main_category</th>\n",
       "      <th>currency</th>\n",
       "      <th>deadline</th>\n",
       "      <th>goal</th>\n",
       "      <th>launched</th>\n",
       "      <th>pledged</th>\n",
       "      <th>state</th>\n",
       "      <th>backers</th>\n",
       "      <th>country</th>\n",
       "      <th>usd pledged</th>\n",
       "      <th>usd_pledged_real</th>\n",
       "      <th>usd_goal_real</th>\n",
       "    </tr>\n",
       "  </thead>\n",
       "  <tbody>\n",
       "    <tr>\n",
       "      <th>378656</th>\n",
       "      <td>999976400</td>\n",
       "      <td>ChknTruk Nationwide Charity Drive 2014 (Canceled)</td>\n",
       "      <td>Documentary</td>\n",
       "      <td>Film &amp; Video</td>\n",
       "      <td>USD</td>\n",
       "      <td>2014-10-17</td>\n",
       "      <td>50000.0</td>\n",
       "      <td>2014-09-17 02:35:30</td>\n",
       "      <td>25.0</td>\n",
       "      <td>canceled</td>\n",
       "      <td>1</td>\n",
       "      <td>US</td>\n",
       "      <td>25.0</td>\n",
       "      <td>25.0</td>\n",
       "      <td>50000.0</td>\n",
       "    </tr>\n",
       "    <tr>\n",
       "      <th>378657</th>\n",
       "      <td>999977640</td>\n",
       "      <td>The Tribe</td>\n",
       "      <td>Narrative Film</td>\n",
       "      <td>Film &amp; Video</td>\n",
       "      <td>USD</td>\n",
       "      <td>2011-07-19</td>\n",
       "      <td>1500.0</td>\n",
       "      <td>2011-06-22 03:35:14</td>\n",
       "      <td>155.0</td>\n",
       "      <td>failed</td>\n",
       "      <td>5</td>\n",
       "      <td>US</td>\n",
       "      <td>155.0</td>\n",
       "      <td>155.0</td>\n",
       "      <td>1500.0</td>\n",
       "    </tr>\n",
       "    <tr>\n",
       "      <th>378658</th>\n",
       "      <td>999986353</td>\n",
       "      <td>Walls of Remedy- New lesbian Romantic Comedy f...</td>\n",
       "      <td>Narrative Film</td>\n",
       "      <td>Film &amp; Video</td>\n",
       "      <td>USD</td>\n",
       "      <td>2010-08-16</td>\n",
       "      <td>15000.0</td>\n",
       "      <td>2010-07-01 19:40:30</td>\n",
       "      <td>20.0</td>\n",
       "      <td>failed</td>\n",
       "      <td>1</td>\n",
       "      <td>US</td>\n",
       "      <td>20.0</td>\n",
       "      <td>20.0</td>\n",
       "      <td>15000.0</td>\n",
       "    </tr>\n",
       "    <tr>\n",
       "      <th>378659</th>\n",
       "      <td>999987933</td>\n",
       "      <td>BioDefense Education Kit</td>\n",
       "      <td>Technology</td>\n",
       "      <td>Technology</td>\n",
       "      <td>USD</td>\n",
       "      <td>2016-02-13</td>\n",
       "      <td>15000.0</td>\n",
       "      <td>2016-01-13 18:13:53</td>\n",
       "      <td>200.0</td>\n",
       "      <td>failed</td>\n",
       "      <td>6</td>\n",
       "      <td>US</td>\n",
       "      <td>200.0</td>\n",
       "      <td>200.0</td>\n",
       "      <td>15000.0</td>\n",
       "    </tr>\n",
       "    <tr>\n",
       "      <th>378660</th>\n",
       "      <td>999988282</td>\n",
       "      <td>Nou Renmen Ayiti!  We Love Haiti!</td>\n",
       "      <td>Performance Art</td>\n",
       "      <td>Art</td>\n",
       "      <td>USD</td>\n",
       "      <td>2011-08-16</td>\n",
       "      <td>2000.0</td>\n",
       "      <td>2011-07-19 09:07:47</td>\n",
       "      <td>524.0</td>\n",
       "      <td>failed</td>\n",
       "      <td>17</td>\n",
       "      <td>US</td>\n",
       "      <td>524.0</td>\n",
       "      <td>524.0</td>\n",
       "      <td>2000.0</td>\n",
       "    </tr>\n",
       "  </tbody>\n",
       "</table>\n",
       "</div>"
      ],
      "text/plain": [
       "               ID                                               name  \\\n",
       "378656  999976400  ChknTruk Nationwide Charity Drive 2014 (Canceled)   \n",
       "378657  999977640                                          The Tribe   \n",
       "378658  999986353  Walls of Remedy- New lesbian Romantic Comedy f...   \n",
       "378659  999987933                           BioDefense Education Kit   \n",
       "378660  999988282                  Nou Renmen Ayiti!  We Love Haiti!   \n",
       "\n",
       "               category main_category currency    deadline     goal  \\\n",
       "378656      Documentary  Film & Video      USD  2014-10-17  50000.0   \n",
       "378657   Narrative Film  Film & Video      USD  2011-07-19   1500.0   \n",
       "378658   Narrative Film  Film & Video      USD  2010-08-16  15000.0   \n",
       "378659       Technology    Technology      USD  2016-02-13  15000.0   \n",
       "378660  Performance Art           Art      USD  2011-08-16   2000.0   \n",
       "\n",
       "                   launched  pledged     state  backers country  usd pledged  \\\n",
       "378656  2014-09-17 02:35:30     25.0  canceled        1      US         25.0   \n",
       "378657  2011-06-22 03:35:14    155.0    failed        5      US        155.0   \n",
       "378658  2010-07-01 19:40:30     20.0    failed        1      US         20.0   \n",
       "378659  2016-01-13 18:13:53    200.0    failed        6      US        200.0   \n",
       "378660  2011-07-19 09:07:47    524.0    failed       17      US        524.0   \n",
       "\n",
       "        usd_pledged_real  usd_goal_real  \n",
       "378656              25.0        50000.0  \n",
       "378657             155.0         1500.0  \n",
       "378658              20.0        15000.0  \n",
       "378659             200.0        15000.0  \n",
       "378660             524.0         2000.0  "
      ]
     },
     "execution_count": 5,
     "metadata": {},
     "output_type": "execute_result"
    }
   ],
   "source": [
    "#Last 5 rows\n",
    "df.tail()"
   ]
  },
  {
   "cell_type": "code",
   "execution_count": 6,
   "id": "cf5ffe39",
   "metadata": {},
   "outputs": [
    {
     "name": "stdout",
     "output_type": "stream",
     "text": [
      "<class 'pandas.core.frame.DataFrame'>\n",
      "RangeIndex: 378661 entries, 0 to 378660\n",
      "Data columns (total 15 columns):\n",
      " #   Column            Non-Null Count   Dtype  \n",
      "---  ------            --------------   -----  \n",
      " 0   ID                378661 non-null  int64  \n",
      " 1   name              378657 non-null  object \n",
      " 2   category          378661 non-null  object \n",
      " 3   main_category     378661 non-null  object \n",
      " 4   currency          378661 non-null  object \n",
      " 5   deadline          378661 non-null  object \n",
      " 6   goal              378661 non-null  float64\n",
      " 7   launched          378661 non-null  object \n",
      " 8   pledged           378661 non-null  float64\n",
      " 9   state             378661 non-null  object \n",
      " 10  backers           378661 non-null  int64  \n",
      " 11  country           378661 non-null  object \n",
      " 12  usd pledged       374864 non-null  float64\n",
      " 13  usd_pledged_real  378661 non-null  float64\n",
      " 14  usd_goal_real     378661 non-null  float64\n",
      "dtypes: float64(5), int64(2), object(8)\n",
      "memory usage: 43.3+ MB\n"
     ]
    }
   ],
   "source": [
    "#Checking the data type of features\n",
    "df.info()"
   ]
  },
  {
   "cell_type": "code",
   "execution_count": 7,
   "id": "81d30a91",
   "metadata": {},
   "outputs": [
    {
     "data": {
      "text/html": [
       "<div>\n",
       "<style scoped>\n",
       "    .dataframe tbody tr th:only-of-type {\n",
       "        vertical-align: middle;\n",
       "    }\n",
       "\n",
       "    .dataframe tbody tr th {\n",
       "        vertical-align: top;\n",
       "    }\n",
       "\n",
       "    .dataframe thead th {\n",
       "        text-align: right;\n",
       "    }\n",
       "</style>\n",
       "<table border=\"1\" class=\"dataframe\">\n",
       "  <thead>\n",
       "    <tr style=\"text-align: right;\">\n",
       "      <th></th>\n",
       "      <th>ID</th>\n",
       "      <th>goal</th>\n",
       "      <th>pledged</th>\n",
       "      <th>backers</th>\n",
       "      <th>usd pledged</th>\n",
       "      <th>usd_pledged_real</th>\n",
       "      <th>usd_goal_real</th>\n",
       "    </tr>\n",
       "  </thead>\n",
       "  <tbody>\n",
       "    <tr>\n",
       "      <th>count</th>\n",
       "      <td>3.786610e+05</td>\n",
       "      <td>3.786610e+05</td>\n",
       "      <td>3.786610e+05</td>\n",
       "      <td>378661.000000</td>\n",
       "      <td>3.748640e+05</td>\n",
       "      <td>3.786610e+05</td>\n",
       "      <td>3.786610e+05</td>\n",
       "    </tr>\n",
       "    <tr>\n",
       "      <th>mean</th>\n",
       "      <td>1.074731e+09</td>\n",
       "      <td>4.908079e+04</td>\n",
       "      <td>9.682979e+03</td>\n",
       "      <td>105.617476</td>\n",
       "      <td>7.036729e+03</td>\n",
       "      <td>9.058924e+03</td>\n",
       "      <td>4.545440e+04</td>\n",
       "    </tr>\n",
       "    <tr>\n",
       "      <th>std</th>\n",
       "      <td>6.190862e+08</td>\n",
       "      <td>1.183391e+06</td>\n",
       "      <td>9.563601e+04</td>\n",
       "      <td>907.185035</td>\n",
       "      <td>7.863975e+04</td>\n",
       "      <td>9.097334e+04</td>\n",
       "      <td>1.152950e+06</td>\n",
       "    </tr>\n",
       "    <tr>\n",
       "      <th>min</th>\n",
       "      <td>5.971000e+03</td>\n",
       "      <td>1.000000e-02</td>\n",
       "      <td>0.000000e+00</td>\n",
       "      <td>0.000000</td>\n",
       "      <td>0.000000e+00</td>\n",
       "      <td>0.000000e+00</td>\n",
       "      <td>1.000000e-02</td>\n",
       "    </tr>\n",
       "    <tr>\n",
       "      <th>25%</th>\n",
       "      <td>5.382635e+08</td>\n",
       "      <td>2.000000e+03</td>\n",
       "      <td>3.000000e+01</td>\n",
       "      <td>2.000000</td>\n",
       "      <td>1.698000e+01</td>\n",
       "      <td>3.100000e+01</td>\n",
       "      <td>2.000000e+03</td>\n",
       "    </tr>\n",
       "    <tr>\n",
       "      <th>50%</th>\n",
       "      <td>1.075276e+09</td>\n",
       "      <td>5.200000e+03</td>\n",
       "      <td>6.200000e+02</td>\n",
       "      <td>12.000000</td>\n",
       "      <td>3.947200e+02</td>\n",
       "      <td>6.243300e+02</td>\n",
       "      <td>5.500000e+03</td>\n",
       "    </tr>\n",
       "    <tr>\n",
       "      <th>75%</th>\n",
       "      <td>1.610149e+09</td>\n",
       "      <td>1.600000e+04</td>\n",
       "      <td>4.076000e+03</td>\n",
       "      <td>56.000000</td>\n",
       "      <td>3.034090e+03</td>\n",
       "      <td>4.050000e+03</td>\n",
       "      <td>1.550000e+04</td>\n",
       "    </tr>\n",
       "    <tr>\n",
       "      <th>max</th>\n",
       "      <td>2.147476e+09</td>\n",
       "      <td>1.000000e+08</td>\n",
       "      <td>2.033899e+07</td>\n",
       "      <td>219382.000000</td>\n",
       "      <td>2.033899e+07</td>\n",
       "      <td>2.033899e+07</td>\n",
       "      <td>1.663614e+08</td>\n",
       "    </tr>\n",
       "  </tbody>\n",
       "</table>\n",
       "</div>"
      ],
      "text/plain": [
       "                 ID          goal       pledged        backers   usd pledged  \\\n",
       "count  3.786610e+05  3.786610e+05  3.786610e+05  378661.000000  3.748640e+05   \n",
       "mean   1.074731e+09  4.908079e+04  9.682979e+03     105.617476  7.036729e+03   \n",
       "std    6.190862e+08  1.183391e+06  9.563601e+04     907.185035  7.863975e+04   \n",
       "min    5.971000e+03  1.000000e-02  0.000000e+00       0.000000  0.000000e+00   \n",
       "25%    5.382635e+08  2.000000e+03  3.000000e+01       2.000000  1.698000e+01   \n",
       "50%    1.075276e+09  5.200000e+03  6.200000e+02      12.000000  3.947200e+02   \n",
       "75%    1.610149e+09  1.600000e+04  4.076000e+03      56.000000  3.034090e+03   \n",
       "max    2.147476e+09  1.000000e+08  2.033899e+07  219382.000000  2.033899e+07   \n",
       "\n",
       "       usd_pledged_real  usd_goal_real  \n",
       "count      3.786610e+05   3.786610e+05  \n",
       "mean       9.058924e+03   4.545440e+04  \n",
       "std        9.097334e+04   1.152950e+06  \n",
       "min        0.000000e+00   1.000000e-02  \n",
       "25%        3.100000e+01   2.000000e+03  \n",
       "50%        6.243300e+02   5.500000e+03  \n",
       "75%        4.050000e+03   1.550000e+04  \n",
       "max        2.033899e+07   1.663614e+08  "
      ]
     },
     "execution_count": 7,
     "metadata": {},
     "output_type": "execute_result"
    }
   ],
   "source": [
    "#Stastical Info about Data\n",
    "df.describe()"
   ]
  },
  {
   "cell_type": "code",
   "execution_count": 8,
   "id": "1ef2064e",
   "metadata": {},
   "outputs": [
    {
     "data": {
      "text/plain": [
       "ID                  378661\n",
       "name                375765\n",
       "category               159\n",
       "main_category           15\n",
       "currency                14\n",
       "deadline              3164\n",
       "goal                  8353\n",
       "launched            378089\n",
       "pledged              62130\n",
       "state                    6\n",
       "backers               3963\n",
       "country                 23\n",
       "usd pledged          95456\n",
       "usd_pledged_real    106065\n",
       "usd_goal_real        50339\n",
       "dtype: int64"
      ]
     },
     "execution_count": 8,
     "metadata": {},
     "output_type": "execute_result"
    }
   ],
   "source": [
    "#No. of unique values in each feature\n",
    "df.apply(lambda x: len(x.unique()))"
   ]
  },
  {
   "cell_type": "code",
   "execution_count": 9,
   "id": "5e68a5b1",
   "metadata": {},
   "outputs": [
    {
     "data": {
      "text/plain": [
       "ID                     0\n",
       "name                   4\n",
       "category               0\n",
       "main_category          0\n",
       "currency               0\n",
       "deadline               0\n",
       "goal                   0\n",
       "launched               0\n",
       "pledged                0\n",
       "state                  0\n",
       "backers                0\n",
       "country                0\n",
       "usd pledged         3797\n",
       "usd_pledged_real       0\n",
       "usd_goal_real          0\n",
       "dtype: int64"
      ]
     },
     "execution_count": 9,
     "metadata": {},
     "output_type": "execute_result"
    }
   ],
   "source": [
    "#No. of null values in each feature\n",
    "df.isnull().sum()"
   ]
  },
  {
   "cell_type": "code",
   "execution_count": 10,
   "id": "6b7712b4",
   "metadata": {},
   "outputs": [
    {
     "data": {
      "text/html": [
       "<div>\n",
       "<style scoped>\n",
       "    .dataframe tbody tr th:only-of-type {\n",
       "        vertical-align: middle;\n",
       "    }\n",
       "\n",
       "    .dataframe tbody tr th {\n",
       "        vertical-align: top;\n",
       "    }\n",
       "\n",
       "    .dataframe thead th {\n",
       "        text-align: right;\n",
       "    }\n",
       "</style>\n",
       "<table border=\"1\" class=\"dataframe\">\n",
       "  <thead>\n",
       "    <tr style=\"text-align: right;\">\n",
       "      <th></th>\n",
       "      <th>column_name</th>\n",
       "      <th>percent_missing</th>\n",
       "    </tr>\n",
       "  </thead>\n",
       "  <tbody>\n",
       "    <tr>\n",
       "      <th>usd pledged</th>\n",
       "      <td>usd pledged</td>\n",
       "      <td>1.0</td>\n",
       "    </tr>\n",
       "    <tr>\n",
       "      <th>ID</th>\n",
       "      <td>ID</td>\n",
       "      <td>0.0</td>\n",
       "    </tr>\n",
       "    <tr>\n",
       "      <th>name</th>\n",
       "      <td>name</td>\n",
       "      <td>0.0</td>\n",
       "    </tr>\n",
       "    <tr>\n",
       "      <th>category</th>\n",
       "      <td>category</td>\n",
       "      <td>0.0</td>\n",
       "    </tr>\n",
       "    <tr>\n",
       "      <th>main_category</th>\n",
       "      <td>main_category</td>\n",
       "      <td>0.0</td>\n",
       "    </tr>\n",
       "    <tr>\n",
       "      <th>currency</th>\n",
       "      <td>currency</td>\n",
       "      <td>0.0</td>\n",
       "    </tr>\n",
       "    <tr>\n",
       "      <th>deadline</th>\n",
       "      <td>deadline</td>\n",
       "      <td>0.0</td>\n",
       "    </tr>\n",
       "    <tr>\n",
       "      <th>goal</th>\n",
       "      <td>goal</td>\n",
       "      <td>0.0</td>\n",
       "    </tr>\n",
       "    <tr>\n",
       "      <th>launched</th>\n",
       "      <td>launched</td>\n",
       "      <td>0.0</td>\n",
       "    </tr>\n",
       "    <tr>\n",
       "      <th>pledged</th>\n",
       "      <td>pledged</td>\n",
       "      <td>0.0</td>\n",
       "    </tr>\n",
       "    <tr>\n",
       "      <th>state</th>\n",
       "      <td>state</td>\n",
       "      <td>0.0</td>\n",
       "    </tr>\n",
       "    <tr>\n",
       "      <th>backers</th>\n",
       "      <td>backers</td>\n",
       "      <td>0.0</td>\n",
       "    </tr>\n",
       "    <tr>\n",
       "      <th>country</th>\n",
       "      <td>country</td>\n",
       "      <td>0.0</td>\n",
       "    </tr>\n",
       "    <tr>\n",
       "      <th>usd_pledged_real</th>\n",
       "      <td>usd_pledged_real</td>\n",
       "      <td>0.0</td>\n",
       "    </tr>\n",
       "    <tr>\n",
       "      <th>usd_goal_real</th>\n",
       "      <td>usd_goal_real</td>\n",
       "      <td>0.0</td>\n",
       "    </tr>\n",
       "  </tbody>\n",
       "</table>\n",
       "</div>"
      ],
      "text/plain": [
       "                       column_name  percent_missing\n",
       "usd pledged            usd pledged              1.0\n",
       "ID                              ID              0.0\n",
       "name                          name              0.0\n",
       "category                  category              0.0\n",
       "main_category        main_category              0.0\n",
       "currency                  currency              0.0\n",
       "deadline                  deadline              0.0\n",
       "goal                          goal              0.0\n",
       "launched                  launched              0.0\n",
       "pledged                    pledged              0.0\n",
       "state                        state              0.0\n",
       "backers                    backers              0.0\n",
       "country                    country              0.0\n",
       "usd_pledged_real  usd_pledged_real              0.0\n",
       "usd_goal_real        usd_goal_real              0.0"
      ]
     },
     "execution_count": 10,
     "metadata": {},
     "output_type": "execute_result"
    }
   ],
   "source": [
    "# % of missing values in each feature\n",
    "percent_missing = (df.isnull().sum()*100/(len(df))).round(2)\n",
    "percent_missing_df = pd.DataFrame({'column_name': df.columns, 'percent_missing': percent_missing})\n",
    "percent_missing_df.sort_values('percent_missing', ascending=False)"
   ]
  },
  {
   "cell_type": "code",
   "execution_count": 11,
   "id": "6c3ab275",
   "metadata": {},
   "outputs": [
    {
     "data": {
      "text/plain": [
       "0"
      ]
     },
     "execution_count": 11,
     "metadata": {},
     "output_type": "execute_result"
    }
   ],
   "source": [
    "#Check for duplicate rows\n",
    "df.duplicated().sum()"
   ]
  },
  {
   "cell_type": "code",
   "execution_count": 12,
   "id": "914ac916",
   "metadata": {},
   "outputs": [],
   "source": [
    "#Converting dtype of deadline and launch date to datetime\n",
    "df['deadline'] = df['deadline'].apply(pd.to_datetime)\n",
    "df['launched'] = df['launched'].apply(pd.to_datetime)\n",
    "\n",
    "#Creating a new feature - duration - for the duration of project\n",
    "df['duration'] = df['deadline']-df['launched']\n",
    "df['duration'] = df['duration'].dt.days"
   ]
  },
  {
   "cell_type": "code",
   "execution_count": 13,
   "id": "a08df05e",
   "metadata": {},
   "outputs": [],
   "source": [
    "#Mapping countries and replacing 'N,0\"' according to currency\n",
    "country = {'USD':'US', 'AUD':'AU', 'CAD':'CA', 'GBP':'GB', 'EUR':'DE', 'SEK':'SE', 'DKK':'DK', 'NZD':'NZ', 'NOK':'NO', 'CHF':'CH'}\n",
    "invalid = df[df['country'] == 'N,0\"']\n",
    "invalid['country'] = invalid['currency'].map(country)\n",
    "\n",
    "#Placing it in original data\n",
    "invalid_country = invalid['country'].iloc[:].values\n",
    "j=0\n",
    "for i in invalid.index:\n",
    "    df['country'].iloc[i] =invalid_country[j]\n",
    "    j=j+1"
   ]
  },
  {
   "cell_type": "code",
   "execution_count": 14,
   "id": "7869b7d0",
   "metadata": {},
   "outputs": [],
   "source": [
    "#Because the ID column has unique values, we can set it as index\n",
    "df = df.set_index('ID')"
   ]
  },
  {
   "cell_type": "code",
   "execution_count": 15,
   "id": "2f9f2b0c",
   "metadata": {},
   "outputs": [],
   "source": [
    "#Merging canceled and suspended state\n",
    "df['state'].replace(to_replace='suspended', value='canceled', inplace=True)"
   ]
  },
  {
   "cell_type": "code",
   "execution_count": 16,
   "id": "4ed147ed",
   "metadata": {},
   "outputs": [
    {
     "data": {
      "text/html": [
       "<div>\n",
       "<style scoped>\n",
       "    .dataframe tbody tr th:only-of-type {\n",
       "        vertical-align: middle;\n",
       "    }\n",
       "\n",
       "    .dataframe tbody tr th {\n",
       "        vertical-align: top;\n",
       "    }\n",
       "\n",
       "    .dataframe thead th {\n",
       "        text-align: right;\n",
       "    }\n",
       "</style>\n",
       "<table border=\"1\" class=\"dataframe\">\n",
       "  <thead>\n",
       "    <tr style=\"text-align: right;\">\n",
       "      <th></th>\n",
       "      <th>name</th>\n",
       "      <th>category</th>\n",
       "      <th>main_category</th>\n",
       "      <th>currency</th>\n",
       "      <th>deadline</th>\n",
       "      <th>goal</th>\n",
       "      <th>launched</th>\n",
       "      <th>pledged</th>\n",
       "      <th>state</th>\n",
       "      <th>backers</th>\n",
       "      <th>country</th>\n",
       "      <th>usd pledged</th>\n",
       "      <th>usd_pledged_real</th>\n",
       "      <th>usd_goal_real</th>\n",
       "      <th>duration</th>\n",
       "    </tr>\n",
       "    <tr>\n",
       "      <th>ID</th>\n",
       "      <th></th>\n",
       "      <th></th>\n",
       "      <th></th>\n",
       "      <th></th>\n",
       "      <th></th>\n",
       "      <th></th>\n",
       "      <th></th>\n",
       "      <th></th>\n",
       "      <th></th>\n",
       "      <th></th>\n",
       "      <th></th>\n",
       "      <th></th>\n",
       "      <th></th>\n",
       "      <th></th>\n",
       "      <th></th>\n",
       "    </tr>\n",
       "  </thead>\n",
       "  <tbody>\n",
       "    <tr>\n",
       "      <th>1000002330</th>\n",
       "      <td>The Songs of Adelaide &amp; Abullah</td>\n",
       "      <td>Poetry</td>\n",
       "      <td>Publishing</td>\n",
       "      <td>GBP</td>\n",
       "      <td>2015-10-09</td>\n",
       "      <td>1000.0</td>\n",
       "      <td>2015-08-11 12:12:28</td>\n",
       "      <td>0.0</td>\n",
       "      <td>failed</td>\n",
       "      <td>0</td>\n",
       "      <td>GB</td>\n",
       "      <td>0.0</td>\n",
       "      <td>0.0</td>\n",
       "      <td>1533.95</td>\n",
       "      <td>58</td>\n",
       "    </tr>\n",
       "    <tr>\n",
       "      <th>1000003930</th>\n",
       "      <td>Greeting From Earth: ZGAC Arts Capsule For ET</td>\n",
       "      <td>Narrative Film</td>\n",
       "      <td>Film &amp; Video</td>\n",
       "      <td>USD</td>\n",
       "      <td>2017-11-01</td>\n",
       "      <td>30000.0</td>\n",
       "      <td>2017-09-02 04:43:57</td>\n",
       "      <td>2421.0</td>\n",
       "      <td>failed</td>\n",
       "      <td>15</td>\n",
       "      <td>US</td>\n",
       "      <td>100.0</td>\n",
       "      <td>2421.0</td>\n",
       "      <td>30000.00</td>\n",
       "      <td>59</td>\n",
       "    </tr>\n",
       "    <tr>\n",
       "      <th>1000004038</th>\n",
       "      <td>Where is Hank?</td>\n",
       "      <td>Narrative Film</td>\n",
       "      <td>Film &amp; Video</td>\n",
       "      <td>USD</td>\n",
       "      <td>2013-02-26</td>\n",
       "      <td>45000.0</td>\n",
       "      <td>2013-01-12 00:20:50</td>\n",
       "      <td>220.0</td>\n",
       "      <td>failed</td>\n",
       "      <td>3</td>\n",
       "      <td>US</td>\n",
       "      <td>220.0</td>\n",
       "      <td>220.0</td>\n",
       "      <td>45000.00</td>\n",
       "      <td>44</td>\n",
       "    </tr>\n",
       "    <tr>\n",
       "      <th>1000007540</th>\n",
       "      <td>ToshiCapital Rekordz Needs Help to Complete Album</td>\n",
       "      <td>Music</td>\n",
       "      <td>Music</td>\n",
       "      <td>USD</td>\n",
       "      <td>2012-04-16</td>\n",
       "      <td>5000.0</td>\n",
       "      <td>2012-03-17 03:24:11</td>\n",
       "      <td>1.0</td>\n",
       "      <td>failed</td>\n",
       "      <td>1</td>\n",
       "      <td>US</td>\n",
       "      <td>1.0</td>\n",
       "      <td>1.0</td>\n",
       "      <td>5000.00</td>\n",
       "      <td>29</td>\n",
       "    </tr>\n",
       "    <tr>\n",
       "      <th>1000011046</th>\n",
       "      <td>Community Film Project: The Art of Neighborhoo...</td>\n",
       "      <td>Film &amp; Video</td>\n",
       "      <td>Film &amp; Video</td>\n",
       "      <td>USD</td>\n",
       "      <td>2015-08-29</td>\n",
       "      <td>19500.0</td>\n",
       "      <td>2015-07-04 08:35:03</td>\n",
       "      <td>1283.0</td>\n",
       "      <td>canceled</td>\n",
       "      <td>14</td>\n",
       "      <td>US</td>\n",
       "      <td>1283.0</td>\n",
       "      <td>1283.0</td>\n",
       "      <td>19500.00</td>\n",
       "      <td>55</td>\n",
       "    </tr>\n",
       "  </tbody>\n",
       "</table>\n",
       "</div>"
      ],
      "text/plain": [
       "                                                         name        category  \\\n",
       "ID                                                                              \n",
       "1000002330                    The Songs of Adelaide & Abullah          Poetry   \n",
       "1000003930      Greeting From Earth: ZGAC Arts Capsule For ET  Narrative Film   \n",
       "1000004038                                     Where is Hank?  Narrative Film   \n",
       "1000007540  ToshiCapital Rekordz Needs Help to Complete Album           Music   \n",
       "1000011046  Community Film Project: The Art of Neighborhoo...    Film & Video   \n",
       "\n",
       "           main_category currency   deadline     goal            launched  \\\n",
       "ID                                                                          \n",
       "1000002330    Publishing      GBP 2015-10-09   1000.0 2015-08-11 12:12:28   \n",
       "1000003930  Film & Video      USD 2017-11-01  30000.0 2017-09-02 04:43:57   \n",
       "1000004038  Film & Video      USD 2013-02-26  45000.0 2013-01-12 00:20:50   \n",
       "1000007540         Music      USD 2012-04-16   5000.0 2012-03-17 03:24:11   \n",
       "1000011046  Film & Video      USD 2015-08-29  19500.0 2015-07-04 08:35:03   \n",
       "\n",
       "            pledged     state  backers country  usd pledged  usd_pledged_real  \\\n",
       "ID                                                                              \n",
       "1000002330      0.0    failed        0      GB          0.0               0.0   \n",
       "1000003930   2421.0    failed       15      US        100.0            2421.0   \n",
       "1000004038    220.0    failed        3      US        220.0             220.0   \n",
       "1000007540      1.0    failed        1      US          1.0               1.0   \n",
       "1000011046   1283.0  canceled       14      US       1283.0            1283.0   \n",
       "\n",
       "            usd_goal_real  duration  \n",
       "ID                                   \n",
       "1000002330        1533.95        58  \n",
       "1000003930       30000.00        59  \n",
       "1000004038       45000.00        44  \n",
       "1000007540        5000.00        29  \n",
       "1000011046       19500.00        55  "
      ]
     },
     "execution_count": 16,
     "metadata": {},
     "output_type": "execute_result"
    }
   ],
   "source": [
    "#Checking the dataset before starting with EDA\n",
    "df.head()"
   ]
  },
  {
   "cell_type": "markdown",
   "id": "a31b81a2",
   "metadata": {},
   "source": [
    "# Exploratory Data Analysis"
   ]
  },
  {
   "cell_type": "code",
   "execution_count": 17,
   "id": "3d341a68",
   "metadata": {
    "scrolled": true
   },
   "outputs": [
    {
     "data": {
      "text/plain": [
       "Text(0.5, 1.0, 'No. of Projects by their state')"
      ]
     },
     "execution_count": 17,
     "metadata": {},
     "output_type": "execute_result"
    },
    {
     "data": {
      "image/png": "[encoded data removed]",
      "text/plain": [
       "<Figure size 432x288 with 1 Axes>"
      ]
     },
     "metadata": {
      "needs_background": "light"
     },
     "output_type": "display_data"
    }
   ],
   "source": [
    "#State graph\n",
    "sns.countplot(df['state'], order=df.state.value_counts().index)\n",
    "plt.title('No. of Projects by their state')"
   ]
  },
  {
   "cell_type": "markdown",
   "id": "13276358",
   "metadata": {},
   "source": [
    "- Only **one-third(>33%)** of the projects accomplish their goals.\n",
    "- More than **50%** of kickstarter projects gets failed.\n",
    "- Nearly **10%** project gets canceled."
   ]
  },
  {
   "cell_type": "code",
   "execution_count": 18,
   "id": "bba0d6cb",
   "metadata": {},
   "outputs": [],
   "source": [
    "#Creating a feature with position of only successful and failed projects\n",
    "df['state_two'] = df['state'].loc[df['state'].isin(['successful','failed'])]"
   ]
  },
  {
   "cell_type": "code",
   "execution_count": 19,
   "id": "8b51162d",
   "metadata": {},
   "outputs": [
    {
     "data": {
      "text/plain": [
       "Text(0.5, 1.0, 'No. of Projects by Category')"
      ]
     },
     "execution_count": 19,
     "metadata": {},
     "output_type": "execute_result"
    },
    {
     "data": {
      "image/png": "[encoded data removed]",
      "text/plain": [
       "<Figure size 864x432 with 1 Axes>"
      ]
     },
     "metadata": {
      "needs_background": "light"
     },
     "output_type": "display_data"
    }
   ],
   "source": [
    "#Plotting the category column\n",
    "plt.figure(figsize=(12,6))\n",
    "sns.countplot(y=df['category'], data=df, order=df.category.value_counts().iloc[:20].index)\n",
    "plt.title('No. of Projects by Category')"
   ]
  },
  {
   "cell_type": "markdown",
   "id": "72363243",
   "metadata": {},
   "source": [
    "- There are total 159 categories in categories feature.\n",
    "- This are top 20 categories by kickstart projects.\n",
    "- **Product Design** is the most popular category in terms of raising fund."
   ]
  },
  {
   "cell_type": "code",
   "execution_count": 20,
   "id": "84e49671",
   "metadata": {
    "scrolled": false
   },
   "outputs": [
    {
     "data": {
      "text/plain": [
       "Text(0.5, 1.0, 'Successful and Failed Projects by Category')"
      ]
     },
     "execution_count": 20,
     "metadata": {},
     "output_type": "execute_result"
    },
    {
     "data": {
      "image/png": "[encoded data removed]",
      "text/plain": [
       "<Figure size 432x432 with 1 Axes>"
      ]
     },
     "metadata": {
      "needs_background": "light"
     },
     "output_type": "display_data"
    }
   ],
   "source": [
    "#Plotting the category column with state with top 10 categories\n",
    "plt.figure(figsize=(6,6))\n",
    "sns.countplot(y=df['category'], data=df, hue=df['state_two'], order=df.category.value_counts().iloc[:10].index)\n",
    "plt.title('Successful and Failed Projects by Category')"
   ]
  },
  {
   "cell_type": "markdown",
   "id": "58c8b89e",
   "metadata": {},
   "source": [
    "- Most of the categories have more failure rate in comparison to success.\n",
    "- **Music**, **Tabeletop Games** and **Shorts** have better success rate in themselves than other categories in category."
   ]
  },
  {
   "cell_type": "code",
   "execution_count": 21,
   "id": "792eebb0",
   "metadata": {},
   "outputs": [
    {
     "data": {
      "text/plain": [
       "Text(0.5, 1.0, 'No. of Projects by Main Category')"
      ]
     },
     "execution_count": 21,
     "metadata": {},
     "output_type": "execute_result"
    },
    {
     "data": {
      "image/png": "[encoded data removed]",
      "text/plain": [
       "<Figure size 864x432 with 1 Axes>"
      ]
     },
     "metadata": {
      "needs_background": "light"
     },
     "output_type": "display_data"
    }
   ],
   "source": [
    "#Plotting the main category column\n",
    "plt.figure(figsize=(12,6))\n",
    "sns.countplot(y=df['main_category'], data=df, order=df.main_category.value_counts().index)\n",
    "plt.title('No. of Projects by Main Category')"
   ]
  },
  {
   "cell_type": "markdown",
   "id": "87510799",
   "metadata": {},
   "source": [
    "- There are total 15 categories in main category feature.\n",
    "- **Film & Video** is the most popular category in main category. **(16.79%)**"
   ]
  },
  {
   "cell_type": "code",
   "execution_count": 22,
   "id": "f3e0f15e",
   "metadata": {},
   "outputs": [
    {
     "data": {
      "text/plain": [
       "Text(0.5, 1.0, 'Successful & Failed Projects by Main Category')"
      ]
     },
     "execution_count": 22,
     "metadata": {},
     "output_type": "execute_result"
    },
    {
     "data": {
      "image/png": "[encoded data removed]",
      "text/plain": [
       "<Figure size 864x432 with 1 Axes>"
      ]
     },
     "metadata": {
      "needs_background": "light"
     },
     "output_type": "display_data"
    }
   ],
   "source": [
    "#Plotting the main category column by state\n",
    "plt.figure(figsize=(12,6))\n",
    "sns.countplot(y=df['main_category'], data=df, hue=df['state_two'], order=df.main_category.value_counts().index)\n",
    "plt.title('Successful & Failed Projects by Main Category')"
   ]
  },
  {
   "cell_type": "markdown",
   "id": "c93f245c",
   "metadata": {},
   "source": [
    "- Most of the categories have more failure rate in comparison to success.\n",
    "- **Music**, **Theater**, **Comics** and **Dance** have better success rate in themselves than other category in main categories."
   ]
  },
  {
   "cell_type": "code",
   "execution_count": 23,
   "id": "9808b1b3",
   "metadata": {
    "scrolled": false
   },
   "outputs": [
    {
     "data": {
      "text/plain": [
       "Text(0.5, 1.0, 'No. of Projects by Currency')"
      ]
     },
     "execution_count": 23,
     "metadata": {},
     "output_type": "execute_result"
    },
    {
     "data": {
      "image/png": "[encoded data removed]",
      "text/plain": [
       "<Figure size 576x432 with 1 Axes>"
      ]
     },
     "metadata": {
      "needs_background": "light"
     },
     "output_type": "display_data"
    }
   ],
   "source": [
    "#Plotting the currency column\n",
    "plt.figure(figsize=(8,6))\n",
    "sns.countplot(df['currency'], order=df.currency.value_counts().index)\n",
    "plt.title('No. of Projects by Currency')"
   ]
  },
  {
   "cell_type": "markdown",
   "id": "fefc7c9b",
   "metadata": {},
   "source": [
    "- **USD**, i.e., US Dollar, is the most popular currency for raising funds.**(78%)**\n",
    "- After USD, **GBP** and **EUR** are the most prevailing currency.(Nearly 9% and 4% respectively)"
   ]
  },
  {
   "cell_type": "code",
   "execution_count": 24,
   "id": "97c81a11",
   "metadata": {
    "scrolled": false
   },
   "outputs": [
    {
     "data": {
      "text/plain": [
       "Text(0.5, 1.0, 'No. of Projects by Country')"
      ]
     },
     "execution_count": 24,
     "metadata": {},
     "output_type": "execute_result"
    },
    {
     "data": {
      "image/png": "[encoded data removed]",
      "text/plain": [
       "<Figure size 576x432 with 1 Axes>"
      ]
     },
     "metadata": {
      "needs_background": "light"
     },
     "output_type": "display_data"
    }
   ],
   "source": [
    "#Plotting the country feature\n",
    "plt.figure(figsize=(8,6))\n",
    "sns.countplot(df['country'],order=df['country'].value_counts().index)\n",
    "plt.title('No. of Projects by Country')"
   ]
  },
  {
   "cell_type": "markdown",
   "id": "98c9ad43",
   "metadata": {},
   "source": [
    "- Most of the projects are from **US (78%)**, followed by **GB (9.01%)** (Great Britain)."
   ]
  },
  {
   "cell_type": "code",
   "execution_count": 25,
   "id": "0b1214ce",
   "metadata": {},
   "outputs": [],
   "source": [
    "#Dictionary for converting duration in to distinct categories\n",
    "duration_category = {\n",
    "    range(0,15): '0-15',\n",
    "    range(15,30): '15-30',\n",
    "    range(30,45): '30-45',\n",
    "    range(45,60): '45-60',\n",
    "    range(60,16739): '60+'\n",
    "}"
   ]
  },
  {
   "cell_type": "code",
   "execution_count": 26,
   "id": "4f7ac0f7",
   "metadata": {},
   "outputs": [
    {
     "data": {
      "text/plain": [
       "Text(0.5, 1.0, 'Duration')"
      ]
     },
     "execution_count": 26,
     "metadata": {},
     "output_type": "execute_result"
    },
    {
     "data": {
      "image/png": "[encoded data removed]",
      "text/plain": [
       "<Figure size 432x288 with 1 Axes>"
      ]
     },
     "metadata": {
      "needs_background": "light"
     },
     "output_type": "display_data"
    }
   ],
   "source": [
    "#Categorising using above dictionary\n",
    "duration = df['duration'].apply(lambda x: next((v for k, v in duration_category.items() if x in k), 0))\n",
    "duration = duration.sort_values()\n",
    "\n",
    "#Plotting Duration\n",
    "sns.countplot(y=duration)\n",
    "plt.title('Duration')"
   ]
  },
  {
   "cell_type": "markdown",
   "id": "1ce5207e",
   "metadata": {},
   "source": [
    "- Most of the projects have duration of **15-30** days.**(58.04%)**\n",
    "- Followed by **30-45** and **45-60** days, respectively.**(22.40%)** & **(13.11%)**"
   ]
  },
  {
   "cell_type": "code",
   "execution_count": 27,
   "id": "99e8ab7f",
   "metadata": {},
   "outputs": [],
   "source": [
    "#Dictionary for converting backers in to distinct categories\n",
    "backers_category = {\n",
    "    range(0,1): '0',\n",
    "    range(0,10): '1-10',\n",
    "    range(10,100): '10-100',\n",
    "    range(100,1000): '100-1000',\n",
    "    range(1000,1000000): '1000+'\n",
    "}"
   ]
  },
  {
   "cell_type": "code",
   "execution_count": 28,
   "id": "f0ee108d",
   "metadata": {},
   "outputs": [
    {
     "data": {
      "text/plain": [
       "Text(0.5, 1.0, 'Backers')"
      ]
     },
     "execution_count": 28,
     "metadata": {},
     "output_type": "execute_result"
    },
    {
     "data": {
      "image/png": "[encoded data removed]",
      "text/plain": [
       "<Figure size 432x288 with 1 Axes>"
      ]
     },
     "metadata": {
      "needs_background": "light"
     },
     "output_type": "display_data"
    }
   ],
   "source": [
    "#Categorising backers using above dictionary\n",
    "backers = df['backers'].apply(lambda x: next((v for k, v in backers_category.items() if x in k), 0))\n",
    "backers = backers.sort_values()\n",
    "\n",
    "#Plotting backers\n",
    "sns.countplot(y=backers)\n",
    "plt.title('Backers')"
   ]
  },
  {
   "cell_type": "markdown",
   "id": "bd12baba",
   "metadata": {},
   "source": [
    "- Most of the projects have **10-100 (36.92%)** backers, followed by **1-10 (32.43%)** backers.\n",
    "- Nearly **14.68%** have 0 backers.\n",
    "- Highest No. of backers for a project is: **219382**"
   ]
  },
  {
   "cell_type": "code",
   "execution_count": 29,
   "id": "4e66152d",
   "metadata": {
    "scrolled": true
   },
   "outputs": [
    {
     "data": {
      "text/plain": [
       "Text(0.5, 1.0, 'Successful & Failed Projects by Backers')"
      ]
     },
     "execution_count": 29,
     "metadata": {},
     "output_type": "execute_result"
    },
    {
     "data": {
      "image/png": "[encoded data removed]",
      "text/plain": [
       "<Figure size 432x288 with 1 Axes>"
      ]
     },
     "metadata": {
      "needs_background": "light"
     },
     "output_type": "display_data"
    }
   ],
   "source": [
    "#Plotting backers with state\n",
    "sns.countplot(y=backers, hue = df['state_two'])\n",
    "plt.title('Successful & Failed Projects by Backers')"
   ]
  },
  {
   "cell_type": "markdown",
   "id": "941e1f89",
   "metadata": {},
   "source": [
    "- Most of the projects having backers **less than 10**, are bound to fail.\n",
    "- Success rate increases with no. of backers. (above chart proves this)"
   ]
  },
  {
   "cell_type": "code",
   "execution_count": 30,
   "id": "7c6357b1",
   "metadata": {},
   "outputs": [],
   "source": [
    "#Dictionary for converting usd pledged real in to distinct categories\n",
    "usd_pledged_real_category = {\n",
    "     range(0, 1): '0-1',\n",
    "     range(1, 100): '1-100',\n",
    "     range(100, 1000): '100-1000',\n",
    "     range(1000, 10000): '1000-10000',\n",
    "     range(10000,100000): '10000-100000',\n",
    "     range(100000, 1000000): '100000-1000000',\n",
    "     range(1000000, 100000000): '1000000+'}"
   ]
  },
  {
   "cell_type": "code",
   "execution_count": 31,
   "id": "b7e459c2",
   "metadata": {
    "scrolled": true
   },
   "outputs": [
    {
     "data": {
      "text/plain": [
       "Text(0.5, 1.0, 'Pledged Amount in USD')"
      ]
     },
     "execution_count": 31,
     "metadata": {},
     "output_type": "execute_result"
    },
    {
     "data": {
      "image/png": "[encoded data removed]",
      "text/plain": [
       "<Figure size 432x288 with 1 Axes>"
      ]
     },
     "metadata": {
      "needs_background": "light"
     },
     "output_type": "display_data"
    }
   ],
   "source": [
    "#Categorising using above dictionary\n",
    "usd_pledged_real_int = df['usd_pledged_real'].astype(int)\n",
    "usd_pledged_real = usd_pledged_real_int.apply(lambda x: next((v for k, v in usd_pledged_real_category.items() if x in k), 0))\n",
    "usd_pledged_real = usd_pledged_real.sort_values()\n",
    "\n",
    "#Plotting pledged in usd real\n",
    "sns.countplot(y=usd_pledged_real)\n",
    "plt.title('Pledged Amount in USD')"
   ]
  },
  {
   "cell_type": "markdown",
   "id": "4e2a4728",
   "metadata": {},
   "source": [
    "- Most of the projects have **1K-10K** as their pledged amount in USD.**(31.21%)**\n",
    "- Very few projects have more than **100K** USD pledged.**(1.31%)**\n",
    "- Some projects have less than **1USD** pledged.**(14.15%)**\n",
    "- Highest Amount pleged for a project is: **20,338,986.27** USD"
   ]
  },
  {
   "cell_type": "code",
   "execution_count": 32,
   "id": "3fe502a6",
   "metadata": {},
   "outputs": [],
   "source": [
    "#Dictionary for converting usd goal real in to distinct categories.\n",
    "goal_category = {range(0, 100): '0-100',\n",
    "     range(100, 1000): '100-1000',\n",
    "     range(1000, 10000): '1000-10000',\n",
    "     range(10000,100000): '10000-100000',\n",
    "     range(100000, 1000000): '100000-1000000',\n",
    "     range(1000000, 1000000000): '1000000+'}"
   ]
  },
  {
   "cell_type": "code",
   "execution_count": 33,
   "id": "cddab5e4",
   "metadata": {
    "scrolled": false
   },
   "outputs": [
    {
     "data": {
      "text/plain": [
       "Text(0.5, 1.0, 'Goal in USD')"
      ]
     },
     "execution_count": 33,
     "metadata": {},
     "output_type": "execute_result"
    },
    {
     "data": {
      "image/png": "[encoded data removed]",
      "text/plain": [
       "<Figure size 432x288 with 1 Axes>"
      ]
     },
     "metadata": {
      "needs_background": "light"
     },
     "output_type": "display_data"
    }
   ],
   "source": [
    "#Categorising using above dictionary\n",
    "goal_int = df['usd_goal_real'].astype(int)\n",
    "goal = goal_int.apply(lambda x: next((v for k, v in goal_category.items() if x in k), 0))\n",
    "goal = goal.sort_values()\n",
    "\n",
    "#Plotting goal in usd\n",
    "sns.countplot(y=goal)\n",
    "plt.title('Goal in USD')"
   ]
  },
  {
   "cell_type": "markdown",
   "id": "3676a6dd",
   "metadata": {},
   "source": [
    "- Most of the project are trying to raise **1K-10K (49.01%)** and **10k-100K (34.08%)**.\n",
    "- Very few projects are trying to raise more than **100K**USD.**(4.27%)**\n",
    "- Some projects are trying to raise less than **100**USD.**(1.16%)**\n",
    "- Highes amount tried to be raised is: **166,361,390.71** USD"
   ]
  },
  {
   "cell_type": "markdown",
   "id": "1b7ded99",
   "metadata": {},
   "source": [
    "# PreProcessing"
   ]
  },
  {
   "cell_type": "code",
   "execution_count": 34,
   "id": "2d096fba",
   "metadata": {},
   "outputs": [
    {
     "data": {
      "text/plain": [
       "array(['failed', 'successful'], dtype=object)"
      ]
     },
     "execution_count": 34,
     "metadata": {},
     "output_type": "execute_result"
    }
   ],
   "source": [
    "#Using rows with Either Successful or Failed States\n",
    "df.dropna(inplace=True)\n",
    "df['state'].unique()"
   ]
  },
  {
   "cell_type": "code",
   "execution_count": 35,
   "id": "9cc2f750",
   "metadata": {},
   "outputs": [],
   "source": [
    "#Letter count in name feature\n",
    "df['name_letter'] = df['name'].str.len()\n",
    "\n",
    "#Word count in name feature\n",
    "df['name_word'] = df['name'].apply(lambda x: len(str(x).split(' ')))\n",
    "\n",
    "#Question mark in feature\n",
    "df['name_question'] = (df['name'].str[-1]=='?').astype(int)\n",
    "\n",
    "#Uppercase or not\n",
    "df['name_upper'] = df['name'].str.isupper().astype(float)"
   ]
  },
  {
   "cell_type": "code",
   "execution_count": 36,
   "id": "b936414e",
   "metadata": {},
   "outputs": [],
   "source": [
    "#Creating new features using launched column\n",
    "df['launched_year'] = df['launched'].dt.year\n",
    "df['launched_quarter'] = df['launched'].dt.quarter\n",
    "df['launched_month'] = df['launched'].dt.month\n",
    "df['launched_week'] = df['launched'].dt.week\n",
    "df['launched_date'] = df['launched'].dt.day\n",
    "df['launched_day'] = df['launched'].dt.dayofweek"
   ]
  },
  {
   "cell_type": "code",
   "execution_count": 37,
   "id": "e7fa9e5b",
   "metadata": {
    "scrolled": true
   },
   "outputs": [],
   "source": [
    "#Finding the competition for a project in their category by year\n",
    "competition_year = df.groupby(['category', 'launched_year']).count()\n",
    "competition_year = competition_year[['name']]\n",
    "competition_year.reset_index(inplace=True)\n",
    "\n",
    "#Finding the competition for a project in their category by quarter\n",
    "competition_quarter = df.groupby(['category', 'launched_year', 'launched_quarter']).count()\n",
    "competition_quarter = competition_quarter[['name']]\n",
    "competition_quarter.reset_index(inplace=True)\n",
    "\n",
    "#Finding the competition for a project in their category by month\n",
    "competition_month = df.groupby(['category', 'launched_year', 'launched_month']).count()\n",
    "competition_month = competition_month[['name']]\n",
    "competition_month.reset_index(inplace=True)"
   ]
  },
  {
   "cell_type": "code",
   "execution_count": 38,
   "id": "788ec318",
   "metadata": {},
   "outputs": [],
   "source": [
    "#Renaming the columns \n",
    "year=['category', 'launched_year','competition_year']\n",
    "competition_year.columns=year\n",
    "\n",
    "quarter=['category', 'launched_year', 'launched_quarter','competition_quarter']\n",
    "competition_quarter.columns=quarter\n",
    "\n",
    "month=['category', 'launched_year', 'launched_month','competition_month']\n",
    "competition_month.columns=month"
   ]
  },
  {
   "cell_type": "code",
   "execution_count": 39,
   "id": "dedb79f6",
   "metadata": {},
   "outputs": [],
   "source": [
    "#Merging the df to original data\n",
    "df = pd.merge(df, competition_year, on = ['category', 'launched_year'], how = 'left')\n",
    "df = pd.merge(df, competition_quarter, on = ['category', 'launched_year', 'launched_quarter'], how = 'left')\n",
    "df = pd.merge(df, competition_month, on =['category', 'launched_year', 'launched_month'], how = 'left')"
   ]
  },
  {
   "cell_type": "code",
   "execution_count": 40,
   "id": "b7ec6b9c",
   "metadata": {},
   "outputs": [],
   "source": [
    "#Dropping unnecessary columns\n",
    "df.drop(columns=['name', 'deadline', 'launched','state_two', 'country'], inplace=True)"
   ]
  },
  {
   "cell_type": "code",
   "execution_count": 41,
   "id": "3a60a678",
   "metadata": {},
   "outputs": [],
   "source": [
    "#Dropping columns that won't be available at the start of project\n",
    "df.drop(columns=['pledged', 'usd pledged', 'usd_pledged_real'], inplace=True)"
   ]
  },
  {
   "cell_type": "code",
   "execution_count": 42,
   "id": "e07f2849",
   "metadata": {},
   "outputs": [],
   "source": [
    "#Because USD dominates the dataset we will convert into a 1 if USD or 0 if not.\n",
    "df['currency'] = df['currency'] == 'USD'"
   ]
  },
  {
   "cell_type": "code",
   "execution_count": 43,
   "id": "e2634683",
   "metadata": {},
   "outputs": [
    {
     "data": {
      "text/html": [
       "<div>\n",
       "<style scoped>\n",
       "    .dataframe tbody tr th:only-of-type {\n",
       "        vertical-align: middle;\n",
       "    }\n",
       "\n",
       "    .dataframe tbody tr th {\n",
       "        vertical-align: top;\n",
       "    }\n",
       "\n",
       "    .dataframe thead th {\n",
       "        text-align: right;\n",
       "    }\n",
       "</style>\n",
       "<table border=\"1\" class=\"dataframe\">\n",
       "  <thead>\n",
       "    <tr style=\"text-align: right;\">\n",
       "      <th></th>\n",
       "      <th>category</th>\n",
       "      <th>main_category</th>\n",
       "      <th>currency</th>\n",
       "      <th>goal</th>\n",
       "      <th>state</th>\n",
       "      <th>backers</th>\n",
       "      <th>usd_goal_real</th>\n",
       "      <th>duration</th>\n",
       "      <th>name_letter</th>\n",
       "      <th>name_word</th>\n",
       "      <th>...</th>\n",
       "      <th>name_upper</th>\n",
       "      <th>launched_year</th>\n",
       "      <th>launched_quarter</th>\n",
       "      <th>launched_month</th>\n",
       "      <th>launched_week</th>\n",
       "      <th>launched_date</th>\n",
       "      <th>launched_day</th>\n",
       "      <th>competition_year</th>\n",
       "      <th>competition_quarter</th>\n",
       "      <th>competition_month</th>\n",
       "    </tr>\n",
       "  </thead>\n",
       "  <tbody>\n",
       "    <tr>\n",
       "      <th>0</th>\n",
       "      <td>108</td>\n",
       "      <td>12</td>\n",
       "      <td>False</td>\n",
       "      <td>1000.0</td>\n",
       "      <td>failed</td>\n",
       "      <td>0</td>\n",
       "      <td>1533.95</td>\n",
       "      <td>58</td>\n",
       "      <td>31</td>\n",
       "      <td>6</td>\n",
       "      <td>...</td>\n",
       "      <td>0.0</td>\n",
       "      <td>2015</td>\n",
       "      <td>3</td>\n",
       "      <td>8</td>\n",
       "      <td>33</td>\n",
       "      <td>11</td>\n",
       "      <td>1</td>\n",
       "      <td>228</td>\n",
       "      <td>59</td>\n",
       "      <td>11</td>\n",
       "    </tr>\n",
       "    <tr>\n",
       "      <th>1</th>\n",
       "      <td>93</td>\n",
       "      <td>6</td>\n",
       "      <td>True</td>\n",
       "      <td>30000.0</td>\n",
       "      <td>failed</td>\n",
       "      <td>15</td>\n",
       "      <td>30000.00</td>\n",
       "      <td>59</td>\n",
       "      <td>45</td>\n",
       "      <td>8</td>\n",
       "      <td>...</td>\n",
       "      <td>0.0</td>\n",
       "      <td>2017</td>\n",
       "      <td>3</td>\n",
       "      <td>9</td>\n",
       "      <td>35</td>\n",
       "      <td>2</td>\n",
       "      <td>5</td>\n",
       "      <td>177</td>\n",
       "      <td>45</td>\n",
       "      <td>14</td>\n",
       "    </tr>\n",
       "    <tr>\n",
       "      <th>2</th>\n",
       "      <td>93</td>\n",
       "      <td>6</td>\n",
       "      <td>True</td>\n",
       "      <td>45000.0</td>\n",
       "      <td>failed</td>\n",
       "      <td>3</td>\n",
       "      <td>45000.00</td>\n",
       "      <td>44</td>\n",
       "      <td>14</td>\n",
       "      <td>3</td>\n",
       "      <td>...</td>\n",
       "      <td>0.0</td>\n",
       "      <td>2013</td>\n",
       "      <td>1</td>\n",
       "      <td>1</td>\n",
       "      <td>2</td>\n",
       "      <td>12</td>\n",
       "      <td>5</td>\n",
       "      <td>1000</td>\n",
       "      <td>230</td>\n",
       "      <td>74</td>\n",
       "    </tr>\n",
       "    <tr>\n",
       "      <th>3</th>\n",
       "      <td>90</td>\n",
       "      <td>10</td>\n",
       "      <td>True</td>\n",
       "      <td>5000.0</td>\n",
       "      <td>failed</td>\n",
       "      <td>1</td>\n",
       "      <td>5000.00</td>\n",
       "      <td>29</td>\n",
       "      <td>49</td>\n",
       "      <td>7</td>\n",
       "      <td>...</td>\n",
       "      <td>0.0</td>\n",
       "      <td>2012</td>\n",
       "      <td>1</td>\n",
       "      <td>3</td>\n",
       "      <td>11</td>\n",
       "      <td>17</td>\n",
       "      <td>5</td>\n",
       "      <td>2443</td>\n",
       "      <td>653</td>\n",
       "      <td>235</td>\n",
       "    </tr>\n",
       "    <tr>\n",
       "      <th>4</th>\n",
       "      <td>123</td>\n",
       "      <td>7</td>\n",
       "      <td>True</td>\n",
       "      <td>50000.0</td>\n",
       "      <td>successful</td>\n",
       "      <td>224</td>\n",
       "      <td>50000.00</td>\n",
       "      <td>34</td>\n",
       "      <td>20</td>\n",
       "      <td>3</td>\n",
       "      <td>...</td>\n",
       "      <td>0.0</td>\n",
       "      <td>2016</td>\n",
       "      <td>1</td>\n",
       "      <td>2</td>\n",
       "      <td>8</td>\n",
       "      <td>26</td>\n",
       "      <td>4</td>\n",
       "      <td>551</td>\n",
       "      <td>189</td>\n",
       "      <td>66</td>\n",
       "    </tr>\n",
       "  </tbody>\n",
       "</table>\n",
       "<p>5 rows × 21 columns</p>\n",
       "</div>"
      ],
      "text/plain": [
       "   category  main_category  currency     goal       state  backers  \\\n",
       "0       108             12     False   1000.0      failed        0   \n",
       "1        93              6      True  30000.0      failed       15   \n",
       "2        93              6      True  45000.0      failed        3   \n",
       "3        90             10      True   5000.0      failed        1   \n",
       "4       123              7      True  50000.0  successful      224   \n",
       "\n",
       "   usd_goal_real  duration  name_letter  name_word  ...  name_upper  \\\n",
       "0        1533.95        58           31          6  ...         0.0   \n",
       "1       30000.00        59           45          8  ...         0.0   \n",
       "2       45000.00        44           14          3  ...         0.0   \n",
       "3        5000.00        29           49          7  ...         0.0   \n",
       "4       50000.00        34           20          3  ...         0.0   \n",
       "\n",
       "   launched_year  launched_quarter  launched_month  launched_week  \\\n",
       "0           2015                 3               8             33   \n",
       "1           2017                 3               9             35   \n",
       "2           2013                 1               1              2   \n",
       "3           2012                 1               3             11   \n",
       "4           2016                 1               2              8   \n",
       "\n",
       "   launched_date  launched_day  competition_year  competition_quarter  \\\n",
       "0             11             1               228                   59   \n",
       "1              2             5               177                   45   \n",
       "2             12             5              1000                  230   \n",
       "3             17             5              2443                  653   \n",
       "4             26             4               551                  189   \n",
       "\n",
       "   competition_month  \n",
       "0                 11  \n",
       "1                 14  \n",
       "2                 74  \n",
       "3                235  \n",
       "4                 66  \n",
       "\n",
       "[5 rows x 21 columns]"
      ]
     },
     "execution_count": 43,
     "metadata": {},
     "output_type": "execute_result"
    }
   ],
   "source": [
    "#Label Encoding\n",
    "from sklearn.preprocessing import LabelEncoder\n",
    "le = LabelEncoder()\n",
    "df['category'] = le.fit_transform(df['category'])\n",
    "df['main_category'] = le.fit_transform(df['main_category'])\n",
    "df.head()"
   ]
  },
  {
   "cell_type": "code",
   "execution_count": 44,
   "id": "dab80c5c",
   "metadata": {},
   "outputs": [],
   "source": [
    "X = df.drop(columns='state')\n",
    "y = df['state']"
   ]
  },
  {
   "cell_type": "code",
   "execution_count": 45,
   "id": "f4b51883",
   "metadata": {},
   "outputs": [],
   "source": [
    "#Splitting the data into Training and Test Set\n",
    "from sklearn.model_selection import train_test_split \n",
    "X_train, X_test, y_train, y_test = train_test_split(X, y, test_size=0.32, random_state=0)"
   ]
  },
  {
   "cell_type": "code",
   "execution_count": 46,
   "id": "b367ec0f",
   "metadata": {},
   "outputs": [],
   "source": [
    "#Converting df to array\n",
    "X_train = X_train.values\n",
    "X_test = X_test.values\n",
    "y_train = y_train.values\n",
    "y_test = y_test.values"
   ]
  },
  {
   "cell_type": "code",
   "execution_count": 47,
   "id": "a4af8fda",
   "metadata": {},
   "outputs": [],
   "source": [
    "#Changing state array to bool\n",
    "y_train = y_train == 'successful'\n",
    "y_test = y_test == 'successful'"
   ]
  },
  {
   "cell_type": "markdown",
   "id": "270b7c61",
   "metadata": {},
   "source": [
    "# Training the model"
   ]
  },
  {
   "cell_type": "markdown",
   "id": "e3dea7de",
   "metadata": {},
   "source": [
    "## 1. Logistic Regression"
   ]
  },
  {
   "cell_type": "code",
   "execution_count": 48,
   "id": "8030c573",
   "metadata": {},
   "outputs": [],
   "source": [
    "# Importing LR module and classification metrics\n",
    "from sklearn.linear_model import LogisticRegression\n",
    "from sklearn.metrics import f1_score, precision_score, recall_score, confusion_matrix, accuracy_score"
   ]
  },
  {
   "cell_type": "code",
   "execution_count": 49,
   "id": "c9cd8a7e",
   "metadata": {},
   "outputs": [
    {
     "data": {
      "text/plain": [
       "LogisticRegression()"
      ]
     },
     "execution_count": 49,
     "metadata": {},
     "output_type": "execute_result"
    }
   ],
   "source": [
    "#Initialising LR model and fitting with training dataset\n",
    "logisticRegr = LogisticRegression()\n",
    "logisticRegr.fit(X_train, y_train)"
   ]
  },
  {
   "cell_type": "code",
   "execution_count": 50,
   "id": "406c1d1f",
   "metadata": {},
   "outputs": [
    {
     "data": {
      "text/plain": [
       "array([False])"
      ]
     },
     "execution_count": 50,
     "metadata": {},
     "output_type": "execute_result"
    }
   ],
   "source": [
    "#Checking the prediction for our 1st element of test dataset\n",
    "logisticRegr.predict(X_test[0].reshape(1,-1))"
   ]
  },
  {
   "cell_type": "code",
   "execution_count": 51,
   "id": "1cfa2bd3",
   "metadata": {},
   "outputs": [
    {
     "data": {
      "text/plain": [
       "array([False, False,  True, False, False, False, False, False,  True,\n",
       "       False])"
      ]
     },
     "execution_count": 51,
     "metadata": {},
     "output_type": "execute_result"
    }
   ],
   "source": [
    "#Checking the predictions for top 10 rows of test dataset\n",
    "logisticRegr.predict(X_test[0:10])"
   ]
  },
  {
   "cell_type": "code",
   "execution_count": 52,
   "id": "e06626d5",
   "metadata": {},
   "outputs": [],
   "source": [
    "#Predicting on test dataset with our model\n",
    "predictions = logisticRegr.predict(X_test)"
   ]
  },
  {
   "cell_type": "code",
   "execution_count": 53,
   "id": "71e5befd",
   "metadata": {},
   "outputs": [
    {
     "name": "stdout",
     "output_type": "stream",
     "text": [
      "0.8988384809744692\n"
     ]
    }
   ],
   "source": [
    "#Score of our model on test data\n",
    "score = logisticRegr.score(X_test, y_test)\n",
    "print(score)"
   ]
  },
  {
   "cell_type": "code",
   "execution_count": 54,
   "id": "f59fa4a9",
   "metadata": {},
   "outputs": [
    {
     "name": "stdout",
     "output_type": "stream",
     "text": [
      "0.8664891499104121\n"
     ]
    }
   ],
   "source": [
    "#F1 Score\n",
    "print(f1_score(y_test,predictions))"
   ]
  },
  {
   "cell_type": "code",
   "execution_count": 55,
   "id": "d560d10f",
   "metadata": {},
   "outputs": [
    {
     "name": "stdout",
     "output_type": "stream",
     "text": [
      "[[60519  2736]\n",
      " [ 7994 34819]]\n"
     ]
    }
   ],
   "source": [
    "#Confusion Matrix\n",
    "cnf = confusion_matrix(y_test,predictions)\n",
    "print(cnf)"
   ]
  },
  {
   "cell_type": "code",
   "execution_count": 56,
   "id": "cd109e10",
   "metadata": {},
   "outputs": [
    {
     "name": "stdout",
     "output_type": "stream",
     "text": [
      "0.9271468512847824\n",
      "0.8132810127764931\n"
     ]
    }
   ],
   "source": [
    "#Precison and Recall\n",
    "print(precision_score(y_test,predictions))\n",
    "print(recall_score(y_test,predictions))"
   ]
  },
  {
   "cell_type": "code",
   "execution_count": 57,
   "id": "070b2a5d",
   "metadata": {},
   "outputs": [
    {
     "name": "stdout",
     "output_type": "stream",
     "text": [
      "Confusion Matrix on Test Data Plot\n"
     ]
    },
    {
     "data": {
      "text/plain": [
       "<AxesSubplot:>"
      ]
     },
     "execution_count": 57,
     "metadata": {},
     "output_type": "execute_result"
    },
    {
     "data": {
      "image/png": "[encoded data removed]",
      "text/plain": [
       "<Figure size 432x288 with 2 Axes>"
      ]
     },
     "metadata": {
      "needs_background": "light"
     },
     "output_type": "display_data"
    }
   ],
   "source": [
    "#Visualising Confusion matrix\n",
    "print(\"Confusion Matrix on Test Data Plot\")\n",
    "sns.heatmap(pd.DataFrame(cnf), annot=True, cmap='YlGnBu')"
   ]
  },
  {
   "cell_type": "code",
   "execution_count": 58,
   "id": "ceb76abd",
   "metadata": {},
   "outputs": [
    {
     "name": "stdout",
     "output_type": "stream",
     "text": [
      "Score:  0.8988384809744692\n",
      "F1_Score:  0.8664891499104121\n",
      "Precision:  0.9271468512847824\n",
      "Recall:  0.8132810127764931\n"
     ]
    }
   ],
   "source": [
    "#Summary of metrics on Logistic Regression model\n",
    "print(\"Score: \",logisticRegr.score(X_test, y_test))\n",
    "print(\"F1_Score: \",f1_score(y_test, predictions))\n",
    "print(\"Precision: \",precision_score(y_test, predictions))\n",
    "print(\"Recall: \",recall_score(y_test, predictions))"
   ]
  },
  {
   "cell_type": "markdown",
   "id": "a786ef09",
   "metadata": {},
   "source": [
    "## 2. Random Forest"
   ]
  },
  {
   "cell_type": "code",
   "execution_count": 59,
   "id": "b0274880",
   "metadata": {},
   "outputs": [],
   "source": [
    "#Importing module required for random forest\n",
    "from sklearn.ensemble import RandomForestClassifier"
   ]
  },
  {
   "cell_type": "code",
   "execution_count": 60,
   "id": "1a42368d",
   "metadata": {},
   "outputs": [],
   "source": [
    "#Creating a function to help us build the most optimum Random Forest model\n",
    "def best_tree(x_train, y_train, x_test, y_test):\n",
    "    tree_score = {}\n",
    "    for tree in range(1,21):\n",
    "        model = RandomForestClassifier(n_jobs=3,n_estimators=tree,criterion = 'entropy')\n",
    "        model.fit(x_train,y_train)\n",
    "        tree_score[tree] = round(model.score(x_test, y_test)*100,2)\n",
    "        print(tree, tree_score[tree])\n",
    "    maximum_score = max(tree_score.values())    \n",
    "    for key in tree_score.keys():\n",
    "        if tree_score[key] == maximum_score:\n",
    "            best_key = key\n",
    "            print(f\"the optimum number of trees is: {key} with the score of {maximum_score}\")\n",
    "            break\n",
    "    model = RandomForestClassifier(n_jobs=3,n_estimators=best_key,criterion = 'entropy')\n",
    "    model.fit(x_train,y_train)\n",
    "    print(f\"Accuracy: {round(model.score(x_test, y_test)*100,2)}%\")\n",
    "    return model"
   ]
  },
  {
   "cell_type": "code",
   "execution_count": 61,
   "id": "22a5363d",
   "metadata": {},
   "outputs": [
    {
     "name": "stdout",
     "output_type": "stream",
     "text": [
      "1 88.57\n",
      "2 86.77\n",
      "3 91.16\n",
      "4 90.95\n",
      "5 91.99\n",
      "6 91.89\n",
      "7 92.33\n",
      "8 92.3\n",
      "9 92.5\n",
      "10 92.5\n",
      "11 92.53\n",
      "12 92.66\n",
      "13 92.78\n",
      "14 92.64\n",
      "15 92.78\n",
      "16 92.81\n",
      "17 92.74\n",
      "18 92.91\n",
      "19 92.88\n",
      "20 92.88\n",
      "the optimum number of trees is: 18 with the score of 92.91\n",
      "Accuracy: 92.86%\n"
     ]
    }
   ],
   "source": [
    "#Calling the previous function with our datasets\n",
    "models_best_params = best_tree(X_train, y_train, X_test, y_test)"
   ]
  },
  {
   "cell_type": "code",
   "execution_count": 62,
   "id": "9c9962d6",
   "metadata": {},
   "outputs": [
    {
     "data": {
      "text/plain": [
       "RandomForestClassifier(criterion='entropy', n_estimators=19, n_jobs=3)"
      ]
     },
     "execution_count": 62,
     "metadata": {},
     "output_type": "execute_result"
    }
   ],
   "source": [
    "#Building the model on training dataset\n",
    "model = RandomForestClassifier(n_jobs=3,n_estimators=19 ,criterion = 'entropy')\n",
    "model.fit(X_train, y_train)"
   ]
  },
  {
   "cell_type": "code",
   "execution_count": 63,
   "id": "ceb130c6",
   "metadata": {},
   "outputs": [
    {
     "name": "stdout",
     "output_type": "stream",
     "text": [
      "0.9285835501753592\n"
     ]
    }
   ],
   "source": [
    "#predictions and accuracy score\n",
    "y_pred = model.predict(X_test)\n",
    "print(accuracy_score(y_test, y_pred))"
   ]
  },
  {
   "cell_type": "code",
   "execution_count": 64,
   "id": "6839479c",
   "metadata": {},
   "outputs": [
    {
     "data": {
      "text/plain": [
       "0.9125157356185108"
      ]
     },
     "execution_count": 64,
     "metadata": {},
     "output_type": "execute_result"
    }
   ],
   "source": [
    "#F! Score\n",
    "f1_score(y_test, y_pred)"
   ]
  },
  {
   "cell_type": "code",
   "execution_count": 65,
   "id": "6aacd642",
   "metadata": {},
   "outputs": [
    {
     "name": "stdout",
     "output_type": "stream",
     "text": [
      "[[60519  2736]\n",
      " [ 7994 34819]]\n"
     ]
    }
   ],
   "source": [
    "#Confusion Matrix\n",
    "cnf = confusion_matrix(y_test,predictions)\n",
    "print(cnf)"
   ]
  },
  {
   "cell_type": "code",
   "execution_count": 66,
   "id": "8377c109",
   "metadata": {},
   "outputs": [
    {
     "name": "stdout",
     "output_type": "stream",
     "text": [
      "Confusion Matrix on Test Data Plot\n"
     ]
    },
    {
     "data": {
      "text/plain": [
       "<AxesSubplot:>"
      ]
     },
     "execution_count": 66,
     "metadata": {},
     "output_type": "execute_result"
    },
    {
     "data": {
      "image/png": "[encoded data removed]",
      "text/plain": [
       "<Figure size 432x288 with 2 Axes>"
      ]
     },
     "metadata": {
      "needs_background": "light"
     },
     "output_type": "display_data"
    }
   ],
   "source": [
    "#Visualising Confusion matrix\n",
    "print(\"Confusion Matrix on Test Data Plot\")\n",
    "sns.heatmap(pd.DataFrame(cnf), annot=True, cmap='YlGnBu')"
   ]
  },
  {
   "cell_type": "code",
   "execution_count": 67,
   "id": "ef130a98",
   "metadata": {},
   "outputs": [
    {
     "data": {
      "text/plain": [
       "backers                0.579034\n",
       "usd_goal_real          0.093364\n",
       "goal                   0.067407\n",
       "name_letter            0.024392\n",
       "duration               0.023123\n",
       "competition_month      0.022319\n",
       "competition_quarter    0.022027\n",
       "competition_year       0.021995\n",
       "category               0.021888\n",
       "launched_date          0.021368\n",
       "launched_week          0.019572\n",
       "main_category          0.017738\n",
       "name_word              0.016828\n",
       "launched_year          0.014325\n",
       "launched_day           0.013192\n",
       "launched_month         0.011837\n",
       "launched_quarter       0.005122\n",
       "currency               0.003037\n",
       "name_upper             0.001193\n",
       "name_question          0.000241\n",
       "dtype: float64"
      ]
     },
     "execution_count": 67,
     "metadata": {},
     "output_type": "execute_result"
    }
   ],
   "source": [
    "#Lisitng features and their importance\n",
    "fn = [x for x in df.columns if x != \"state\"]\n",
    "feature_imp = pd.Series(model.feature_importances_, index= fn).sort_values(ascending=False)\n",
    "feature_imp"
   ]
  },
  {
   "cell_type": "code",
   "execution_count": 68,
   "id": "c9ad65e0",
   "metadata": {},
   "outputs": [
    {
     "data": {
      "image/png": "[encoded data removed]",
      "text/plain": [
       "<Figure size 432x288 with 1 Axes>"
      ]
     },
     "metadata": {
      "needs_background": "light"
     },
     "output_type": "display_data"
    }
   ],
   "source": [
    "#Visualising Feature Importance\n",
    "sns.barplot(x=feature_imp, y=feature_imp.index)\n",
    "plt.xlabel(\"Feature Importance Score\")\n",
    "plt.ylabel(\"Features\")\n",
    "plt.title(\"Visualizing Important features\")\n",
    "plt.show()"
   ]
  },
  {
   "cell_type": "code",
   "execution_count": 69,
   "id": "45350856",
   "metadata": {},
   "outputs": [
    {
     "name": "stdout",
     "output_type": "stream",
     "text": [
      "Score:  0.9285835501753592\n",
      "F1_Score:  0.9125157356185108\n",
      "Precision:  0.9024992004386165\n",
      "Recall:  0.9227571064863476\n"
     ]
    }
   ],
   "source": [
    "#Summary of metrics on Random Forest model\n",
    "print(\"Score: \",model.score(X_test, y_test))\n",
    "print(\"F1_Score: \",f1_score(y_test, y_pred))\n",
    "print(\"Precision: \",precision_score(y_test, y_pred))\n",
    "print(\"Recall: \",recall_score(y_test, y_pred))"
   ]
  },
  {
   "cell_type": "markdown",
   "id": "d32797e3",
   "metadata": {},
   "source": [
    "## 3. Light Gradient Boosting Machine (LGBM)"
   ]
  },
  {
   "cell_type": "code",
   "execution_count": 70,
   "id": "cf3e2556",
   "metadata": {},
   "outputs": [],
   "source": [
    "#Importing Required Modules\n",
    "import lightgbm as lgb\n",
    "from sklearn.metrics import classification_report"
   ]
  },
  {
   "cell_type": "code",
   "execution_count": 71,
   "id": "8272d643",
   "metadata": {},
   "outputs": [],
   "source": [
    "#Initialising the lightgbm model and training with train data\n",
    "gbm = lgb.LGBMClassifier()\n",
    "gbm = gbm.fit(X_train, y_train)"
   ]
  },
  {
   "cell_type": "code",
   "execution_count": 72,
   "id": "05f9058a",
   "metadata": {},
   "outputs": [],
   "source": [
    "#Predicitons \n",
    "y_pred_lgbm = gbm.predict(X_test)"
   ]
  },
  {
   "cell_type": "code",
   "execution_count": 73,
   "id": "cf56b3d9",
   "metadata": {},
   "outputs": [
    {
     "data": {
      "text/plain": [
       "0.9345891315005468"
      ]
     },
     "execution_count": 73,
     "metadata": {},
     "output_type": "execute_result"
    }
   ],
   "source": [
    "#Score\n",
    "gbm.score(X_test, y_test)"
   ]
  },
  {
   "cell_type": "code",
   "execution_count": 74,
   "id": "64cb0048",
   "metadata": {},
   "outputs": [
    {
     "name": "stdout",
     "output_type": "stream",
     "text": [
      "LightGBM Model accuracy score: 0.9346\n"
     ]
    }
   ],
   "source": [
    "print('LightGBM Model accuracy score: {0:0.4f}'.format(accuracy_score(y_test, y_pred_lgbm)))"
   ]
  },
  {
   "cell_type": "code",
   "execution_count": 75,
   "id": "26b6dfdc",
   "metadata": {},
   "outputs": [
    {
     "name": "stdout",
     "output_type": "stream",
     "text": [
      "Training-set accuracy score: 0.9372\n"
     ]
    }
   ],
   "source": [
    "#Comparing train and test set accuracy\n",
    "y_pred_train=gbm.predict(X_train)\n",
    "print('Training-set accuracy score: {0:0.4f}'. format(accuracy_score(y_train, y_pred_train)))"
   ]
  },
  {
   "cell_type": "code",
   "execution_count": 76,
   "id": "026a1021",
   "metadata": {},
   "outputs": [
    {
     "name": "stdout",
     "output_type": "stream",
     "text": [
      "Training set score: 0.9372\n",
      "Test set score: 0.9346\n"
     ]
    }
   ],
   "source": [
    "#Print the scores on training and test set\n",
    "\n",
    "print('Training set score: {:.4f}'.format(gbm.score(X_train, y_train)))\n",
    "\n",
    "print('Test set score: {:.4f}'.format(gbm.score(X_test, y_test)))"
   ]
  },
  {
   "cell_type": "code",
   "execution_count": 77,
   "id": "05107ffd",
   "metadata": {},
   "outputs": [
    {
     "name": "stdout",
     "output_type": "stream",
     "text": [
      "Confusion matrix\n",
      "\n",
      " [[59374  3881]\n",
      " [ 3057 39756]]\n",
      "\n",
      "True Positives(TP) =  59374\n",
      "\n",
      "True Negatives(TN) =  39756\n",
      "\n",
      "False Positives(FP) =  3881\n",
      "\n",
      "False Negatives(FN) =  3057\n"
     ]
    }
   ],
   "source": [
    "#Print the Confusion Matrix and slice it into four pieces\n",
    "cm = confusion_matrix(y_test, y_pred_lgbm)\n",
    "print('Confusion matrix\\n\\n', cm)\n",
    "print('\\nTrue Positives(TP) = ', cm[0,0])\n",
    "print('\\nTrue Negatives(TN) = ', cm[1,1])\n",
    "print('\\nFalse Positives(FP) = ', cm[0,1])\n",
    "print('\\nFalse Negatives(FN) = ', cm[1,0])"
   ]
  },
  {
   "cell_type": "code",
   "execution_count": 78,
   "id": "0f6a3e15",
   "metadata": {},
   "outputs": [
    {
     "data": {
      "text/plain": [
       "<AxesSubplot:>"
      ]
     },
     "execution_count": 78,
     "metadata": {},
     "output_type": "execute_result"
    },
    {
     "data": {
      "image/png": "[encoded data removed]",
      "text/plain": [
       "<Figure size 432x288 with 2 Axes>"
      ]
     },
     "metadata": {
      "needs_background": "light"
     },
     "output_type": "display_data"
    }
   ],
   "source": [
    "#Visualize confusion matrix\n",
    "\n",
    "cm_matrix = pd.DataFrame(data=cm, columns=['Actual Positive:1', 'Actual Negative:0'], \n",
    "                                 index=['Predict Positive:1', 'Predict Negative:0'])\n",
    "\n",
    "sns.heatmap(cm_matrix, annot=True, fmt='d', cmap='YlGnBu')"
   ]
  },
  {
   "cell_type": "code",
   "execution_count": 79,
   "id": "b7ff7ca4",
   "metadata": {},
   "outputs": [
    {
     "name": "stdout",
     "output_type": "stream",
     "text": [
      "              precision    recall  f1-score   support\n",
      "\n",
      "       False       0.95      0.94      0.94     63255\n",
      "        True       0.91      0.93      0.92     42813\n",
      "\n",
      "    accuracy                           0.93    106068\n",
      "   macro avg       0.93      0.93      0.93    106068\n",
      "weighted avg       0.93      0.93      0.93    106068\n",
      "\n"
     ]
    }
   ],
   "source": [
    "#Classification Report\n",
    "print(classification_report(y_test, y_pred_lgbm))"
   ]
  },
  {
   "cell_type": "code",
   "execution_count": 80,
   "id": "b504bf23",
   "metadata": {},
   "outputs": [
    {
     "name": "stdout",
     "output_type": "stream",
     "text": [
      "Score:  0.9345891315005468\n",
      "F1_Score:  0.9197455176402545\n",
      "Precision:  0.9110617136833421\n",
      "Recall:  0.9285964543479784\n"
     ]
    }
   ],
   "source": [
    "#Summary of metrics on LGBM\n",
    "print(\"Score: \",gbm.score(X_test, y_test))\n",
    "print(\"F1_Score: \",f1_score(y_test, y_pred_lgbm))\n",
    "print(\"Precision: \",precision_score(y_test, y_pred_lgbm))\n",
    "print(\"Recall: \",recall_score(y_test, y_pred_lgbm))"
   ]
  },
  {
   "cell_type": "code",
   "execution_count": 81,
   "id": "eb883b7b",
   "metadata": {},
   "outputs": [],
   "source": [
    "#Renaming the models\n",
    "model_1 = logisticRegr\n",
    "model_2 = model\n",
    "model_3 = gbm"
   ]
  },
  {
   "cell_type": "code",
   "execution_count": 82,
   "id": "65225a59",
   "metadata": {},
   "outputs": [
    {
     "data": {
      "text/html": [
       "<div>\n",
       "<style scoped>\n",
       "    .dataframe tbody tr th:only-of-type {\n",
       "        vertical-align: middle;\n",
       "    }\n",
       "\n",
       "    .dataframe tbody tr th {\n",
       "        vertical-align: top;\n",
       "    }\n",
       "\n",
       "    .dataframe thead th {\n",
       "        text-align: right;\n",
       "    }\n",
       "</style>\n",
       "<table border=\"1\" class=\"dataframe\">\n",
       "  <thead>\n",
       "    <tr style=\"text-align: right;\">\n",
       "      <th></th>\n",
       "      <th>Model</th>\n",
       "      <th>Score</th>\n",
       "      <th>F1 Score</th>\n",
       "      <th>Precision</th>\n",
       "      <th>Recall</th>\n",
       "    </tr>\n",
       "  </thead>\n",
       "  <tbody>\n",
       "    <tr>\n",
       "      <th>0</th>\n",
       "      <td>Logistic Regression</td>\n",
       "      <td>0.898838</td>\n",
       "      <td>0.866489</td>\n",
       "      <td>0.927147</td>\n",
       "      <td>0.813281</td>\n",
       "    </tr>\n",
       "    <tr>\n",
       "      <th>1</th>\n",
       "      <td>Random Forest</td>\n",
       "      <td>0.928584</td>\n",
       "      <td>0.912516</td>\n",
       "      <td>0.902499</td>\n",
       "      <td>0.922757</td>\n",
       "    </tr>\n",
       "    <tr>\n",
       "      <th>2</th>\n",
       "      <td>LGBM</td>\n",
       "      <td>0.934589</td>\n",
       "      <td>0.919746</td>\n",
       "      <td>0.911062</td>\n",
       "      <td>0.928596</td>\n",
       "    </tr>\n",
       "  </tbody>\n",
       "</table>\n",
       "</div>"
      ],
      "text/plain": [
       "                 Model     Score  F1 Score  Precision    Recall\n",
       "0  Logistic Regression  0.898838  0.866489   0.927147  0.813281\n",
       "1        Random Forest  0.928584  0.912516   0.902499  0.922757\n",
       "2                 LGBM  0.934589  0.919746   0.911062  0.928596"
      ]
     },
     "execution_count": 82,
     "metadata": {},
     "output_type": "execute_result"
    }
   ],
   "source": [
    "#List for model and their metrics\n",
    "metrics_table = [['Logistic Regression', model_1.score(X_test, y_test), f1_score(y_test, predictions), precision_score(y_test, predictions), recall_score(y_test, predictions)],\n",
    "                 ['Random Forest', model_2.score(X_test, y_test), f1_score(y_test, y_pred), precision_score(y_test, y_pred), recall_score(y_test, y_pred)],\n",
    "                 ['LGBM', model_3.score(X_test, y_test), f1_score(y_test, y_pred_lgbm), precision_score(y_test, y_pred_lgbm), recall_score(y_test, y_pred_lgbm)]]\n",
    " \n",
    "#Creating the DataFrame\n",
    "metrics = pd.DataFrame(metrics_table, columns = ['Model', 'Score', 'F1 Score', 'Precision', 'Recall'])\n",
    "metrics"
   ]
  },
  {
   "cell_type": "code",
   "execution_count": 83,
   "id": "fa0814aa",
   "metadata": {},
   "outputs": [],
   "source": [
    "import joblib"
   ]
  },
  {
   "cell_type": "code",
   "execution_count": 84,
   "id": "d3e8832b",
   "metadata": {},
   "outputs": [
    {
     "data": {
      "text/plain": [
       "['final_rf.pkl']"
      ]
     },
     "execution_count": 84,
     "metadata": {},
     "output_type": "execute_result"
    }
   ],
   "source": [
    "joblib.dump(model_2, 'final_rf.pkl')"
   ]
  },
  {
   "cell_type": "code",
   "execution_count": 85,
   "id": "24a16559",
   "metadata": {},
   "outputs": [
    {
     "data": {
      "text/plain": [
       "['final_lgbm.pkl']"
      ]
     },
     "execution_count": 85,
     "metadata": {},
     "output_type": "execute_result"
    }
   ],
   "source": [
    "joblib.dump(model_3, 'final_lgbm.pkl')"
   ]
  }
 ],
 "metadata": {
  "kernelspec": {
   "display_name": "Python 3 (ipykernel)",
   "language": "python",
   "name": "python3"
  },
  "language_info": {
   "codemirror_mode": {
    "name": "ipython",
    "version": 3
   },
   "file_extension": ".py",
   "mimetype": "text/x-python",
   "name": "python",
   "nbconvert_exporter": "python",
   "pygments_lexer": "ipython3",
   "version": "3.9.5"
  }
 },
 "nbformat": 4,
 "nbformat_minor": 5
}
